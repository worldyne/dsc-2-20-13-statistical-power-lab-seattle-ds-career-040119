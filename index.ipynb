{
 "cells": [
  {
   "cell_type": "markdown",
   "metadata": {},
   "source": [
    "# Statistical Power - Lab\n",
    "\n",
    "## Introduction\n",
    "\n",
    "\n",
    "In this lesson, we will consider a general-purpose simulation approach to estimating the power of an experimental design. Power analysis is an important aspect of experimental design. It allows us to determine the sample size required to detect an effect of a given size with a given degree of confidence. In other words, it allows us to determine the probability of detecting an effect of a given size with a given level of confidence, under sample size constraints. If this probability is unacceptably low, we would be wise to alter or abandon the experiment.\n",
    "\n",
    "The following four factors have an intimate relationship:\n",
    "\n",
    "* Sample size\n",
    "* Effect size\n",
    "* Significance level = P (Type I error) = probability of finding an effect that is not there\n",
    "* **Power = 1 - P (Type II error)** = probability of finding an effect that is there\n",
    "\n",
    "Given any three of these, we can easily determine the fourth.\n",
    "\n",
    "## Objectives\n",
    "\n",
    "You will be able to:\n",
    "\n",
    "* Describe the concept of “Power” in relation to p-value and effect size for hypothesis testing\n",
    "* Understand and critically evaluate the factors influencing the power of an experiment\n",
    "* Perform Power calculation using SciPy and Python\n",
    "* Demonstrate the impact of sample size on statistical power using simulations\n",
    "* Demonstrate the combined effect of sample size and effect size on statistical power using simulations  \n",
    "\n",
    "## Let's get started!\n",
    "  \n",
    "To start, let's import the necessary libraries required for this simuation:"
   ]
  },
  {
   "cell_type": "code",
   "execution_count": 1,
   "metadata": {},
   "outputs": [],
   "source": [
    "import numpy as np\n",
    "import scipy.stats as stats\n",
    "import pandas\n",
    "import matplotlib.pyplot as plt"
   ]
  },
  {
   "cell_type": "markdown",
   "metadata": {},
   "source": [
    "## Scenario\n",
    "\n",
    "A researcher wants to study how daily protein supplementation in the elderly population will affect baseline liver fat. The study budget will allow enrollment of 24 patients. Half will be randomized to a placebo group and half to the protein supplement treatment group and the trial will be carried out over one month. It is desired to see whether the mean change in percentage of liver fat from baseline to the end of the study differs between the two groups in the study. \n",
    "\n",
    "So we have the null hypothesis \n",
    "\n",
    "**There is no difference between experimental and control means i.e. H0 is equal to H1**\n",
    "\n",
    "And the alternative Hypothesis\n",
    "\n",
    "**There is a difference between experimental and control means i.e. H0 is not equal to H1**\n",
    "\n",
    "The researcher needs to know what power  will be obtained under the sample size restrictions to identify a change in mean percent liver fat of 0.17. Based on past results, a common standard deviation of 0.21 will be used for each treatment group in the power analysis. \n",
    "\n",
    "We will run a simulation with above information to calculate the power expected from the given sample size. From above we have following data to work with. "
   ]
  },
  {
   "cell_type": "code",
   "execution_count": 2,
   "metadata": {},
   "outputs": [],
   "source": [
    "# Number of patients in each group\n",
    "sample_size = 12\n",
    "\n",
    "# Control group\n",
    "control_mean = 0\n",
    "control_sd = .21\n",
    "\n",
    "# Experimental group\n",
    "experimental_mean = .17\n",
    "experimental_sd = .21\n",
    "\n",
    "#Set the number of simulations for our test = 1000\n",
    "n_sim = 1000"
   ]
  },
  {
   "cell_type": "markdown",
   "metadata": {},
   "source": [
    "We can now start running our simulations to run an independance t-test with above data and store the calculated p_value in our `p` array. Perform following tasks.\n",
    "\n",
    "* Initialize a numpy array and fill it with Nan values for storing the results (p_value) of our independance T-test.\n",
    "* For defined number of simulations (i.e. 1000), do the following:\n",
    "\n",
    "    * Generate a random normal variable with control mean and sd\n",
    "    * Generate a random normal variable with experimental mean and sd\n",
    "    * Run and independant t-test using control and experimental data\n",
    "    * Store the p value for each test\n",
    "\n",
    "* Calculate the total number and overall proportion of simulations and where Null hypothesis is rejected\n"
   ]
  },
  {
   "cell_type": "code",
   "execution_count": 4,
   "metadata": {},
   "outputs": [
    {
     "data": {
      "text/plain": [
       "0.495"
      ]
     },
     "execution_count": 4,
     "metadata": {},
     "output_type": "execute_result"
    }
   ],
   "source": [
    "# For reproducability \n",
    "np.random.seed(10)\n",
    "\n",
    "# Initialize array to store results\n",
    "p = (np.empty(n_sim))\n",
    "p.fill(np.nan)\n",
    "\n",
    "#  Run a for loop for range of values in n_sim\n",
    "for x in range(n_sim):\n",
    "    control = np.random.normal(loc=control_mean, scale=control_sd, size=sample_size)\n",
    "    experimental = np.random.normal(loc=experimental_mean, scale=experimental_sd, size=sample_size)\n",
    "    t_test = stats.ttest_ind(control, experimental)\n",
    "    \n",
    "    p[x] = t_test[1]\n",
    "# number of null hypothesis rejections\n",
    "num_null_rejects = np.sum(p < .05)\n",
    "reject_proportion = num_null_rejects / n_sim\n",
    "\n",
    "reject_proportion\n",
    "\n",
    "# 0.495"
   ]
  },
  {
   "cell_type": "markdown",
   "metadata": {},
   "source": [
    "## Our results tell us that using 12 participants in each group and with given statistics, the power we obtain is 49% for our test settings. This can be interpreted as follows:\n",
    "\n",
    "> **If a large effect is truly present between control and experimental groups, then the null hypothesis (i.e. no difference with alpha 0.05) would be rejected 49% of times. **"
   ]
  },
  {
   "cell_type": "markdown",
   "metadata": {},
   "source": [
    "## Sample size requirements for a given effect size\n",
    "\n",
    "The researcher conducting this experiment is not satisfied with the results of power calculations shown above, and would like to work out what sample size is required in order to be able to reject the null hypothesis 95% of times that an effect size of 0.17 exists between control and experimental group means. (as compared to 49% with current sample size). \n",
    "\n",
    "To achieve this, we shall move on to a more common scenario, where a design and effect size is decided and we would like to know what sample size is needed to achieve a particular power. This is a straightforward extension of the previous example: we begin with a current sample size and calculate the associated power. We then perform such a calculation repeatedly, each time increasing the sample size, until the power has reached the desired level.\n",
    "\n",
    "Let's define our experimental parameters. "
   ]
  },
  {
   "cell_type": "code",
   "execution_count": 6,
   "metadata": {},
   "outputs": [],
   "source": [
    "# required power 0.95\n",
    "target = .95"
   ]
  },
  {
   "cell_type": "markdown",
   "metadata": {},
   "source": [
    "We will also need to define the number of simulations and a `current` variable for an iterative comparison with target power defined. We shall start with a sample size of 12 (current) and keep increasing it until the required power is achieved. We shall also increase the number of simulations to 10,000 for a more deterministic output. "
   ]
  },
  {
   "cell_type": "code",
   "execution_count": 7,
   "metadata": {},
   "outputs": [],
   "source": [
    "# minimum sample size to start the simulations \n",
    "sample_size = 12\n",
    "current = 0\n",
    "n_sim = 10000"
   ]
  },
  {
   "cell_type": "markdown",
   "metadata": {},
   "source": [
    "As above, perform the following\n",
    "\n",
    "* Initialize an empty array for storing results\n",
    "* initiliaze a list for storing samplesize x power summary\n",
    "* While current power is less than target power\n",
    "    * Generate distributions for control and experimental groups using given statistics (as before)\n",
    "    * Run a t-test and store results\n",
    "    * Calculate current power \n",
    "    * Output current sample size and power calculated for inspection\n",
    "    * Store results: Sample size , power\n",
    "    * increase the sample size by 1 and repeat"
   ]
  },
  {
   "cell_type": "code",
   "execution_count": 9,
   "metadata": {},
   "outputs": [
    {
     "name": "stdout",
     "output_type": "stream",
     "text": [
      "[{'sample_size': 12, 'power': 0.4762}, {'sample_size': 13, 'power': 0.5201}, {'sample_size': 14, 'power': 0.5418}, {'sample_size': 15, 'power': 0.575}, {'sample_size': 16, 'power': 0.6051}, {'sample_size': 17, 'power': 0.6217}, {'sample_size': 18, 'power': 0.6589}, {'sample_size': 19, 'power': 0.6837}, {'sample_size': 20, 'power': 0.701}, {'sample_size': 21, 'power': 0.7316}, {'sample_size': 22, 'power': 0.7422}, {'sample_size': 23, 'power': 0.7662}, {'sample_size': 24, 'power': 0.7829}, {'sample_size': 25, 'power': 0.7974}, {'sample_size': 26, 'power': 0.8137}, {'sample_size': 27, 'power': 0.8265}, {'sample_size': 28, 'power': 0.8466}, {'sample_size': 29, 'power': 0.8588}, {'sample_size': 30, 'power': 0.8728}, {'sample_size': 31, 'power': 0.8812}, {'sample_size': 32, 'power': 0.889}, {'sample_size': 33, 'power': 0.8951}, {'sample_size': 34, 'power': 0.9091}, {'sample_size': 35, 'power': 0.9153}, {'sample_size': 36, 'power': 0.9204}, {'sample_size': 37, 'power': 0.9322}, {'sample_size': 38, 'power': 0.9364}, {'sample_size': 39, 'power': 0.9424}, {'sample_size': 40, 'power': 0.948}, {'sample_size': 41, 'power': 0.9534}]\n"
     ]
    }
   ],
   "source": [
    "np.random.seed(10)\n",
    "\n",
    "p = (np.empty(n_sim))\n",
    "p.fill(np.nan)\n",
    "\n",
    "power_sample = []\n",
    "\n",
    "# keep iterating as shown above until desired power is obtained\n",
    "\n",
    "while current < target:\n",
    "    for x in range(n_sim):\n",
    "        control = np.random.normal(loc=control_mean, scale=control_sd, size=sample_size)\n",
    "        experimental = np.random.normal(loc=experimental_mean, scale=experimental_sd, size=sample_size)\n",
    "        t_test = stats.ttest_ind(control, experimental)\n",
    "\n",
    "        p[x] = t_test[1]\n",
    "    \n",
    "    \n",
    "    num_null_rejects = np.sum(p < .05)\n",
    "    reject_proportion = num_null_rejects / n_sim\n",
    "    current = reject_proportion\n",
    "    power_sample.append({'sample_size': sample_size, 'power':current})\n",
    "    sample_size += 1\n",
    "    \n",
    "print(power_sample)"
   ]
  },
  {
   "cell_type": "markdown",
   "metadata": {},
   "source": [
    "We can also plot calculated power against sample size to visually inspect the effect of increasing sample size. "
   ]
  },
  {
   "cell_type": "code",
   "execution_count": 15,
   "metadata": {},
   "outputs": [
    {
     "data": {
      "image/png": "[encoded data removed]",
      "text/plain": [
       "<Figure size 720x360 with 1 Axes>"
      ]
     },
     "metadata": {
      "needs_background": "light"
     },
     "output_type": "display_data"
    }
   ],
   "source": [
    "# Plot a sample size X Power line graph \n",
    "import pandas as pd\n",
    "from pylab import rcParams\n",
    "rcParams['figure.figsize'] = 10, 5\n",
    "fig, ax = plt.subplots()\n",
    "\n",
    "df = pd.DataFrame(power_sample)\n",
    "ax.plot(df['sample_size'], df['power'])\n",
    "ax.set_title('Power by Sample Size')\n",
    "ax.set_xlabel('Sample Size')\n",
    "ax.set_ylabel('Power')\n",
    "plt.show()"
   ]
  },
  {
   "cell_type": "markdown",
   "metadata": {},
   "source": [
    "Above output tells us that for our researcher, in order to get the required power (95%) for the observed effect of 0.17 , he would need considerably higher number of patients in each group i.e. 41. "
   ]
  },
  {
   "cell_type": "markdown",
   "metadata": {},
   "source": [
    ">**BONUS EXERCISE: Calculating power across varying sample and effect sizes**\n",
    "\n",
    ">In the previous examples, we have assumed a fixed effect size. However, perhaps we want to investigate how power changes with both effect size and sample size. This is again a straightforward extension of the previous example. \n",
    "\n",
    ">1. Generate samples with sizes ranging from 10 to 50 per group\n",
    "2. Set effect size from less than small (i.e. 0.1) to slightly bigger than large (0.8)\n",
    "3. set number of simulations to 10000\n",
    "4. Use nested For loop i.e. for all chosen effect sizes,for all chosen sample sizes, for all groups (i.e. 2) - run the 2 sample independant test and store power, chosen sample size and effect size\n",
    "5. Visualize your data in a meaningful way to communicate results "
   ]
  },
  {
   "cell_type": "markdown",
   "metadata": {},
   "source": [
    "## Summary\n",
    "\n",
    "In this lesson, we recieved an understanding around the idea of \"statistical power\" and how sample size, p_value and effect size impact the power of an experiment. We ran a simulation to determine the sample size that would provide a given value of power. In the second simulation, we saw the combined effect of sample size and effect size on the power. We can conclude this lesson with the ideas that a) Statistical power increases as we increase the sample size and b) with a small effect size, we require a large number of samples to achieve required power and vice versa. "
   ]
  }
 ],
 "metadata": {
  "kernelspec": {
   "display_name": "Python 3",
   "language": "python",
   "name": "python3"
  },
  "language_info": {
   "codemirror_mode": {
    "name": "ipython",
    "version": 3
   },
   "file_extension": ".py",
   "mimetype": "text/x-python",
   "name": "python",
   "nbconvert_exporter": "python",
   "pygments_lexer": "ipython3",
   "version": "3.6.6"
  }
 },
 "nbformat": 4,
 "nbformat_minor": 2
}
